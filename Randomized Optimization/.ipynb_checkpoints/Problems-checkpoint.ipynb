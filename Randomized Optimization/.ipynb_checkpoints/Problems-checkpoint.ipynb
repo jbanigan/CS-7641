{
 "cells": [
  {
   "cell_type": "code",
   "execution_count": 1,
   "metadata": {},
   "outputs": [],
   "source": [
    "import mlrose_hiive as mh\n",
    "import numpy as np\n",
    "import pandas as pd\n",
    "import matplotlib.pyplot as plt\n",
    "import time\n",
    "from scipy.signal import savgol_filter\n",
    "import random\n",
    "from random import randint"
   ]
  },
  {
   "cell_type": "code",
   "execution_count": 3,
   "metadata": {},
   "outputs": [],
   "source": [
    "len_s, len_e = 30, 60"
   ]
  },
  {
   "cell_type": "code",
   "execution_count": 8,
   "metadata": {},
   "outputs": [],
   "source": []
  },
  {
   "cell_type": "code",
   "execution_count": 10,
   "metadata": {},
   "outputs": [
    {
     "name": "stdout",
     "output_type": "stream",
     "text": [
      "[(15, 13), (13, 3), (15, 18), (8, 8), (15, 2), (17, 18), (4, 17), (8, 1), (17, 16), (16, 20), (9, 19), (8, 7), (15, 16), (16, 8), (16, 5), (1, 10), (18, 2), (19, 7), (10, 6), (11, 20), (15, 11), (14, 10), (15, 14), (19, 8), (12, 1), (3, 13), (8, 4), (18, 16), (13, 11), (4, 5), (6, 5), (8, 16), (1, 15), (7, 1), (9, 14), (17, 15), (9, 20), (14, 15), (20, 1), (5, 2), (3, 15), (20, 20), (19, 10), (7, 15), (20, 11), (7, 18), (1, 9), (11, 12), (10, 20), (8, 9), (9, 11), (10, 4), (2, 16), (13, 17), (19, 3), (14, 2), (9, 9), (5, 11), (14, 7)]\n"
     ]
    }
   ],
   "source": []
  },
  {
   "cell_type": "code",
   "execution_count": 14,
   "metadata": {},
   "outputs": [
    {
     "name": "stdout",
     "output_type": "stream",
     "text": [
      "[[ 5  9]\n",
      " [28 38]\n",
      " [ 8 36]\n",
      " [10 39]\n",
      " [12 21]\n",
      " [ 6 51]\n",
      " [11 38]\n",
      " [10  0]\n",
      " [18 32]\n",
      " [28 37]\n",
      " [10 44]\n",
      " [26 18]\n",
      " [ 2 29]\n",
      " [ 5 51]\n",
      " [12 38]\n",
      " [22 35]\n",
      " [12 31]\n",
      " [ 3 54]\n",
      " [10 27]\n",
      " [23 31]]\n"
     ]
    }
   ],
   "source": [
    "def gen_edges(dims, nsamp):\n",
    "    perm = np.indices(dims).reshape(len(dims), -1).T\n",
    "    idx = np.random.choice(perm.shape[0], nsamp, replace=False)\n",
    "    return perm.take(idx, axis=0)"
   ]
  },
  {
   "cell_type": "code",
   "execution_count": null,
   "metadata": {},
   "outputs": [],
   "source": []
  }
 ],
 "metadata": {
  "kernelspec": {
   "display_name": "Python 3",
   "language": "python",
   "name": "python3"
  },
  "language_info": {
   "codemirror_mode": {
    "name": "ipython",
    "version": 3
   },
   "file_extension": ".py",
   "mimetype": "text/x-python",
   "name": "python",
   "nbconvert_exporter": "python",
   "pygments_lexer": "ipython3",
   "version": "3.8.5"
  }
 },
 "nbformat": 4,
 "nbformat_minor": 4
}
