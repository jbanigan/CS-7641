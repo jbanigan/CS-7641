{
 "cells": [
  {
   "cell_type": "code",
   "execution_count": 1,
   "metadata": {},
   "outputs": [],
   "source": [
    "import mlrose_hiive as mh\n",
    "import numpy as np\n",
    "import pandas as pd\n",
    "import matplotlib.pyplot as plt\n",
    "import time\n",
    "from scipy.signal import savgol_filter\n",
    "\n",
    "len_s, len_e = 30, 60\n",
    "\n",
    "ft = mh.FourPeaks()"
   ]
  },
  {
   "cell_type": "markdown",
   "metadata": {},
   "source": [
    "### Simulating Annealing"
   ]
  },
  {
   "cell_type": "code",
   "execution_count": 2,
   "metadata": {
    "scrolled": true
   },
   "outputs": [
    {
     "name": "stdout",
     "output_type": "stream",
     "text": [
      "Simulated Annealing average run time is 0.0083 seconds.\n"
     ]
    }
   ],
   "source": [
    "sa_fit_array = []\n",
    "sa_rt_array = []\n",
    "for i in range(len_s, len_e):\n",
    "    fitness = ft\n",
    "    problem = mh.DiscreteOpt(length=i,fitness_fn=fitness,\n",
    "                         maximize=True, max_val=8)\n",
    "    schedule = mh.ExpDecay()\n",
    "    st = time.perf_counter()\n",
    "    best_state, best_fitness, _ = mh.simulated_annealing(problem, schedule=schedule,\n",
    "                                                     max_attempts=1,\n",
    "                                                     max_iters=10000,\n",
    "                                                     random_state=1)\n",
    "    et = time.perf_counter() - st\n",
    "    sa_fit_array.append(best_fitness)\n",
    "    sa_rt_array.append(et)\n",
    "print(\"Simulated Annealing average run time is {:.4f} seconds.\".format(sum(sa_rt_array)/len(sa_rt_array)))"
   ]
  },
  {
   "cell_type": "markdown",
   "metadata": {},
   "source": [
    "### Random Hill Climb"
   ]
  },
  {
   "cell_type": "code",
   "execution_count": 3,
   "metadata": {},
   "outputs": [
    {
     "name": "stdout",
     "output_type": "stream",
     "text": [
      "Random Hill Climb average run time is 0.0001 seconds.\n"
     ]
    }
   ],
   "source": [
    "rhc_fit_array = []\n",
    "rhc_rt_array = []\n",
    "for i in range(len_s, len_e):\n",
    "    fitness = ft\n",
    "    problem = mh.DiscreteOpt(length=i,fitness_fn=fitness,\n",
    "                         maximize=True, max_val=8)\n",
    "    st = time.perf_counter()\n",
    "    best_state, best_fitness, _ = mh.random_hill_climb(problem, \n",
    "                                                     max_attempts=1,\n",
    "                                                     max_iters=10000,\n",
    "                                                     random_state=1)\n",
    "    et = time.perf_counter() - st\n",
    "    rhc_fit_array.append(best_fitness)\n",
    "    rhc_rt_array.append(et)\n",
    "print(\"Random Hill Climb average run time is {:.4f} seconds.\".format(sum(rhc_rt_array)/len(rhc_rt_array)))"
   ]
  },
  {
   "cell_type": "markdown",
   "metadata": {},
   "source": [
    "### Genetic Algorithm"
   ]
  },
  {
   "cell_type": "code",
   "execution_count": 4,
   "metadata": {},
   "outputs": [
    {
     "name": "stdout",
     "output_type": "stream",
     "text": [
      "Genetic Algorithm average run time is 0.0431 seconds.\n"
     ]
    }
   ],
   "source": [
    "ga_fit_array = []\n",
    "ga_rt_array = []\n",
    "for i in range(len_s, len_e):\n",
    "    fitness = ft\n",
    "    problem = mh.DiscreteOpt(length=i,fitness_fn=fitness,\n",
    "                         maximize=True, max_val=8)\n",
    "    st = time.perf_counter()\n",
    "    best_state, best_fitness, _ = mh.genetic_alg(problem, \n",
    "                                                     max_attempts=1,\n",
    "                                                     max_iters=10000,\n",
    "                                                     random_state=1)\n",
    "    et = time.perf_counter() - st\n",
    "    ga_fit_array.append(best_fitness)\n",
    "    ga_rt_array.append(et)\n",
    "print(\"Genetic Algorithm average run time is {:.4f} seconds.\".format(sum(ga_rt_array)/len(ga_rt_array)))"
   ]
  },
  {
   "cell_type": "markdown",
   "metadata": {},
   "source": [
    "### Mimic"
   ]
  },
  {
   "cell_type": "code",
   "execution_count": 5,
   "metadata": {},
   "outputs": [
    {
     "ename": "SyntaxError",
     "evalue": "invalid syntax (<ipython-input-5-64be40c106cd>, line 13)",
     "output_type": "error",
     "traceback": [
      "\u001b[1;36m  File \u001b[1;32m\"<ipython-input-5-64be40c106cd>\"\u001b[1;36m, line \u001b[1;32m13\u001b[0m\n\u001b[1;33m    print('Problem length: ',i,'Run time: 'et)\u001b[0m\n\u001b[1;37m                                           ^\u001b[0m\n\u001b[1;31mSyntaxError\u001b[0m\u001b[1;31m:\u001b[0m invalid syntax\n"
     ]
    }
   ],
   "source": [
    "mimic_fit_array = []\n",
    "mimic_rt_array = []\n",
    "for i in range(len_s, len_e):\n",
    "    fitness = ft\n",
    "    problem = mh.DiscreteOpt(length=i,fitness_fn=fitness,\n",
    "                         maximize=True, max_val=8)\n",
    "    st = time.perf_counter()\n",
    "    best_state, best_fitness, _ = mh.mimic(problem, \n",
    "                                           max_attempts=1,\n",
    "                                           max_iters=10000,\n",
    "                                           random_state=1)\n",
    "    et = time.perf_counter() - st\n",
    "    print('Problem length: ',i,'Run time: ',et)\n",
    "    mimic_fit_array.append(best_fitness)\n",
    "    mimic_rt_array.append(et)\n",
    "print(\"MIMIC average run time is {:.4f} seconds.\".format(sum(mimic_rt_array)/len(mimic_rt_array)))"
   ]
  },
  {
   "cell_type": "code",
   "execution_count": null,
   "metadata": {},
   "outputs": [],
   "source": [
    "plt.plot(np.arange(len_s, len_e,1), sa_fit_array, color='blue', label='Simulated Annealing')\n",
    "plt.plot(np.arange(len_s, len_e,1), ga_fit_array, color='red',label='Genetic Algorithm')\n",
    "plt.plot(np.arange(len_s, len_e,1), rhc_fit_array, color='black',label='Random Hill Climb')\n",
    "plt.plot(np.arange(len_s, len_e,1), mimic_fit_array, color='green',label='MIMIC')\n",
    "plt.xlabel('Problem Length')\n",
    "plt.ylabel('Best Fitness')\n",
    "plt.legend()\n",
    "plt.show()"
   ]
  },
  {
   "cell_type": "code",
   "execution_count": null,
   "metadata": {},
   "outputs": [],
   "source": [
    "def smooth(array, window, poly_deg):\n",
    "    return savgol_filter(array, window, poly_deg)"
   ]
  },
  {
   "cell_type": "code",
   "execution_count": null,
   "metadata": {},
   "outputs": [],
   "source": [
    "mimic_smooth = smooth(mimic_rt_array, 9, 2)\n",
    "sa_smooth = smooth(sa_rt_array, 9, 2)\n",
    "ga_smooth = smooth(ga_rt_array, 9, 2)\n",
    "rhc_smooth = smooth(rhc_rt_array, 9, 2)\n",
    "x= np.arange(len_s, len_e,1)\n",
    "plt.plot(x, sa_rt_array, '.', label='Simulated Annealing', color='red')\n",
    "plt.plot(x, ga_rt_array, '.', label='Genetic Algorithm', color='blue')\n",
    "plt.plot(x, rhc_rt_array, '.', label='Random Hill Climb', color='green')\n",
    "plt.plot(x, mimic_rt_array, '.', label='MIMIC', color='orange')\n",
    "plt.plot(x,mimic_smooth, color='orange')\n",
    "plt.plot(x,sa_smooth, color='red')\n",
    "plt.plot(x,ga_smooth, color='blue')\n",
    "plt.plot(x,rhc_smooth, color='green')\n",
    "plt.xlabel('Problem Length')\n",
    "plt.ylabel('Run Time')\n",
    "plt.legend()\n",
    "plt.show()"
   ]
  },
  {
   "cell_type": "code",
   "execution_count": null,
   "metadata": {},
   "outputs": [],
   "source": []
  }
 ],
 "metadata": {
  "kernelspec": {
   "display_name": "Python 3",
   "language": "python",
   "name": "python3"
  },
  "language_info": {
   "codemirror_mode": {
    "name": "ipython",
    "version": 3
   },
   "file_extension": ".py",
   "mimetype": "text/x-python",
   "name": "python",
   "nbconvert_exporter": "python",
   "pygments_lexer": "ipython3",
   "version": "3.8.5"
  }
 },
 "nbformat": 4,
 "nbformat_minor": 4
}
