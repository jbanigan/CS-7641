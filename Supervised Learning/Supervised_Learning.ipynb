{
 "cells": [
  {
   "cell_type": "code",
   "execution_count": 1,
   "metadata": {},
   "outputs": [],
   "source": [
    "import numpy as np\n",
    "import pandas as pd\n",
    "from sklearn.tree import DecisionTreeClassifier\n",
    "import matplotlib.pyplot as plt\n",
    "import matplotlib.ticker as mtick\n",
    "import matplotlib.patches as mpatches\n",
    "from sklearn.preprocessing import LabelEncoder, StandardScaler\n",
    "from sklearn import preprocessing\n",
    "from sklearn.model_selection import train_test_split, validation_curve, GridSearchCV, learning_curve, cross_validate\n",
    "from sklearn.metrics import f1_score, accuracy_score, plot_confusion_matrix\n",
    "from sklearn.neural_network import MLPClassifier\n",
    "from sklearn.ensemble import GradientBoostingClassifier\n",
    "from sklearn.svm import SVC\n",
    "from sklearn.neighbors import KNeighborsClassifier\n",
    "import warnings\n",
    "warnings.filterwarnings(\"ignore\")\n",
    "import time\n",
    "start_time = time.time()"
   ]
  },
  {
   "cell_type": "markdown",
   "metadata": {},
   "source": [
    "# Data Selction\n",
    "change an integer to 0 for Wine Quality Dataset and 1 for Breast Cancer Dataset"
   ]
  },
  {
   "cell_type": "code",
   "execution_count": 2,
   "metadata": {},
   "outputs": [],
   "source": [
    "data_selection =  0    # 0 for wine, 1 for cancer"
   ]
  },
  {
   "cell_type": "markdown",
   "metadata": {},
   "source": [
    "# Data import and processing/normalizing"
   ]
  },
  {
   "cell_type": "code",
   "execution_count": 3,
   "metadata": {},
   "outputs": [
    {
     "name": "stdout",
     "output_type": "stream",
     "text": [
      "(4898, 12)\n",
      "0        bad\n",
      "1        bad\n",
      "2        bad\n",
      "3        bad\n",
      "4        bad\n",
      "        ... \n",
      "4893     bad\n",
      "4894     bad\n",
      "4895     bad\n",
      "4896    good\n",
      "4897     bad\n",
      "Name: quality, Length: 4893, dtype: category\n",
      "Categories (2, object): ['bad' < 'good']\n",
      "0    3838\n",
      "1    1055\n",
      "Name: quality, dtype: int64\n",
      "(699, 11)\n",
      "0    444\n",
      "1    239\n",
      "Name: class, dtype: int64\n"
     ]
    }
   ],
   "source": [
    "wine = pd.read_csv('data/wine.csv',sep=';')\n",
    "print(wine.shape)\n",
    "bins = (2, 6.5, 8)\n",
    "group_names = ['bad','good']\n",
    "wine['quality'] = pd.cut(wine['quality'], bins=bins,labels=group_names)\n",
    "wine = wine.dropna()\n",
    "print(wine['quality'])\n",
    "wine_label_quality = LabelEncoder()\n",
    "wine['quality'] = wine_label_quality.fit_transform(wine['quality'])\n",
    "print(wine['quality'].value_counts())\n",
    "cancer = pd.read_csv('data/cancer.csv')\n",
    "print(cancer.shape)\n",
    "cancer = cancer.dropna()\n",
    "cancer['class']=cancer['class'].map({4:1, 2:0})\n",
    "print(cancer['class'].value_counts())\n",
    "if data_selection == 0:\n",
    "    X = wine.drop('quality',axis=1)\n",
    "    y = wine['quality']\n",
    "    y_save = y\n",
    "    dataset = 'Wine Dataset'\n",
    "elif data_selection == 1:\n",
    "    X = cancer.drop(['id','class'],axis=1)\n",
    "    y = cancer['class'] \n",
    "    y_save = y\n",
    "    dataset = 'Cancer Dataset'\n",
    "else:\n",
    "    print(\"0 for wine, 1 for cancer\")\n",
    "X = preprocessing.scale(X)\n",
    "X_train, X_test, y_train, y_test = train_test_split(X, y, test_size = 0.2, random_state = 42)\n",
    "sc = StandardScaler()\n",
    "X_train = sc.fit_transform(X_train)\n",
    "X_test = sc.transform(X_test)"
   ]
  },
  {
   "cell_type": "markdown",
   "metadata": {},
   "source": [
    "# Desicion Tree"
   ]
  },
  {
   "cell_type": "markdown",
   "metadata": {},
   "source": [
    "First Decision tree f1 score is compared against the depth of the tree.\n",
    "Ceriterion has been tested manualy, entropy turned out to be the best for both datasets"
   ]
  },
  {
   "cell_type": "code",
   "execution_count": 4,
   "metadata": {},
   "outputs": [
    {
     "data": {
      "image/png": "[encoded data removed]",
      "text/plain": [
       "<Figure size 432x288 with 1 Axes>"
      ]
     },
     "metadata": {
      "needs_background": "light"
     },
     "output_type": "display_data"
    }
   ],
   "source": [
    "max_depth = np.arange(1,31,1)\n",
    "f1_test, f1_train = np.array([]), np.array([])\n",
    "for i in max_depth:\n",
    "    dt_clf = DecisionTreeClassifier(criterion = 'entropy',\n",
    "                                    max_depth=i,\n",
    "                                    random_state=100,\n",
    "                                    min_samples_leaf=1)\n",
    "    dt_clf.fit(X_train, y_train)\n",
    "    test_y_pred = dt_clf.predict(X_test)\n",
    "    train_y_pred = dt_clf.predict(X_train)\n",
    "    f1_test = np.append(f1_test,f1_score(y_test, test_y_pred))\n",
    "    f1_train = np.append(f1_train,f1_score(y_train, train_y_pred))\n",
    " \n",
    "plt.plot(max_depth, f1_test, 'o-', color='orange', label='Test')\n",
    "plt.plot(max_depth, f1_train, 'o-', color = 'brown', label='Train')\n",
    "plt.ylabel('f1_score')\n",
    "plt.xlabel('max_depth')\n",
    "  \n",
    "plt.title(\"DT F1 Score for \"+dataset)\n",
    "plt.legend()\n",
    "plt.grid()\n",
    "plt.savefig('img/DT_complexity '+dataset+'.png')\n",
    "plt.show()"
   ]
  },
  {
   "cell_type": "markdown",
   "metadata": {},
   "source": [
    "Next the Grid Search was performed, which finds the most optimized parameter of max_depth."
   ]
  },
  {
   "cell_type": "code",
   "execution_count": 5,
   "metadata": {},
   "outputs": [
    {
     "name": "stdout",
     "output_type": "stream",
     "text": [
      "{'max_depth': 16}\n",
      "Tuned Accuracy: 83.55%\n"
     ]
    }
   ],
   "source": [
    "tuned_dt_clf = GridSearchCV(DecisionTreeClassifier(criterion = 'entropy'), \n",
    "                           param_grid={'max_depth' : max_depth},\n",
    "                           cv=5)\n",
    "tuned_dt_clf.fit(X_train, y_train)\n",
    "best_dt_clf = tuned_dt_clf\n",
    "best_dt_params = best_dt_clf.best_params_\n",
    "dt_y_pred = tuned_dt_clf.predict(X_test)\n",
    "dt_acc = accuracy_score(y_test, dt_y_pred)*100\n",
    "print(best_dt_params)\n",
    "print(\"Tuned Accuracy: %.2f%%\"%dt_acc)"
   ]
  },
  {
   "cell_type": "markdown",
   "metadata": {},
   "source": [
    "Next the code plots the Learning curve which can be used to find bias or varience and if the learning algorithm would benefit from more training data"
   ]
  },
  {
   "cell_type": "code",
   "execution_count": 6,
   "metadata": {},
   "outputs": [
    {
     "name": "stdout",
     "output_type": "stream",
     "text": [
      "[learning_curve] Training set sizes: [ 313  626  939 1252 1565 1878 2191 2504 2817 3131]\n"
     ]
    },
    {
     "name": "stderr",
     "output_type": "stream",
     "text": [
      "[Parallel(n_jobs=2)]: Using backend LokyBackend with 2 concurrent workers.\n",
      "[Parallel(n_jobs=2)]: Done  25 out of  50 | elapsed:   16.1s remaining:   16.1s\n",
      "[Parallel(n_jobs=2)]: Done  50 out of  50 | elapsed:   33.1s finished\n"
     ]
    },
    {
     "data": {
      "image/png": "[encoded data removed]",
      "text/plain": [
       "<Figure size 432x288 with 1 Axes>"
      ]
     },
     "metadata": {
      "needs_background": "light"
     },
     "output_type": "display_data"
    }
   ],
   "source": [
    "train_sizes, dt_train_scores, test_scores = learning_curve(best_dt_clf,\n",
    "                                                           X_train,\n",
    "                                                           y_train,\n",
    "                                                           train_sizes=np.linspace(0.1,1.0,10),\n",
    "                                                           verbose=2,\n",
    "                                                           n_jobs=2)\n",
    "plt.figure()\n",
    "plt.plot(train_sizes, np.mean(dt_train_scores, axis=1),'o-',\n",
    "        label='Training Score',color='orange')\n",
    "plt.plot(train_sizes, np.mean(test_scores, axis=1), 'o-',\n",
    "        label='Cross Validation Score',color='brown')\n",
    "plt.title('Learning Curve for '+dataset)\n",
    "plt.xlabel('Training Examples')\n",
    "plt.ylabel('Classicication Score')\n",
    "plt.legend()\n",
    "plt.grid()\n",
    "plt.savefig('img/DT_learning_curve '+dataset+'.png')\n",
    "plt.show()"
   ]
  },
  {
   "cell_type": "markdown",
   "metadata": {},
   "source": [
    "Next the code produces a confusion matrix to show the accuracy of the learning algorithm"
   ]
  },
  {
   "cell_type": "code",
   "execution_count": 7,
   "metadata": {},
   "outputs": [
    {
     "data": {
      "image/png": "[encoded data removed]",
      "text/plain": [
       "<Figure size 432x288 with 2 Axes>"
      ]
     },
     "metadata": {
      "needs_background": "light"
     },
     "output_type": "display_data"
    }
   ],
   "source": [
    "plot_confusion_matrix(best_dt_clf, X_test, y_test, cmap=plt.cm.YlOrBr)\n",
    "plt.title('Decision Tree Confusion Matrix for '+dataset)\n",
    "plt.savefig('img/DT_confusion '+dataset+'.png')\n",
    "plt.show()"
   ]
  },
  {
   "cell_type": "markdown",
   "metadata": {},
   "source": [
    "# Cost Complexity pruning\n",
    "ccp_alpha is the cost complexity parameter, as the ccp_alpha value increases the most of the tree is pruned"
   ]
  },
  {
   "cell_type": "code",
   "execution_count": 8,
   "metadata": {},
   "outputs": [
    {
     "data": {
      "image/png": "[encoded data removed]",
      "text/plain": [
       "<Figure size 432x288 with 1 Axes>"
      ]
     },
     "metadata": {
      "needs_background": "light"
     },
     "output_type": "display_data"
    }
   ],
   "source": [
    "dt_clf_2 = DecisionTreeClassifier(random_state=0)\n",
    "path = dt_clf_2.cost_complexity_pruning_path(X_train,y_train)\n",
    "ccp_alphas, impurities = path.ccp_alphas, path.impurities\n",
    "clfs = []\n",
    "for ccp_alpha in ccp_alphas:\n",
    "    clf = DecisionTreeClassifier(random_state=0, ccp_alpha=ccp_alpha)\n",
    "    clf.fit(X_train, y_train)\n",
    "    clfs.append(clf)\n",
    "clfs = clfs[:-1]\n",
    "ccp_alphas = ccp_alphas[:-1]\n",
    "\n",
    "train_scores = [clf.score(X_train, y_train) for clf in clfs]\n",
    "test_scores = [clf.score(X_test, y_test) for clf in clfs]\n",
    "\n",
    "fig, ax = plt.subplots()\n",
    "ax.set_xlabel(\"cost complexity alpha\")\n",
    "ax.set_ylabel(\"accuracy\")\n",
    "ax.set_title(\"Accuracy vs alpha for training and testing sets\")\n",
    "ax.plot(ccp_alphas, train_scores, marker='o', label=\"train\",color='orange')\n",
    "ax.plot(ccp_alphas, test_scores, marker='o', label=\"test\",color='brown')\n",
    "ax.legend()\n",
    "plt.savefig('img/DT_prining '+dataset+'.png')\n",
    "plt.show()"
   ]
  },
  {
   "cell_type": "markdown",
   "metadata": {},
   "source": [
    "# Neural Network"
   ]
  },
  {
   "cell_type": "markdown",
   "metadata": {},
   "source": [
    "For the Neural Network the code prints out a graph showing how the number of hidden units affects the F1 Score"
   ]
  },
  {
   "cell_type": "code",
   "execution_count": 9,
   "metadata": {},
   "outputs": [
    {
     "data": {
      "image/png": "[encoded data removed]",
      "text/plain": [
       "<Figure size 432x288 with 1 Axes>"
      ]
     },
     "metadata": {
      "needs_background": "light"
     },
     "output_type": "display_data"
    }
   ],
   "source": [
    "hidden_units = np.arange(1,150,5)\n",
    "f1_test, f1_train = np.array([]), np.array([])\n",
    "for i in hidden_units:\n",
    "    nn_clf = MLPClassifier(hidden_layer_sizes=(i,), random_state=100)\n",
    "    nn_clf.fit(X_train, y_train)\n",
    "    test_y_pred = nn_clf.predict(X_test)\n",
    "    train_y_pred = nn_clf.predict(X_train)\n",
    "    f1_test = np.append(f1_test,f1_score(y_test, test_y_pred))\n",
    "    f1_train = np.append(f1_train,f1_score(y_train, train_y_pred))\n",
    "    \n",
    "plt.plot(hidden_units, f1_test, 'o-', color='orange', label='Test')\n",
    "plt.plot(hidden_units, f1_train, 'o-', color='brown', label='Train')\n",
    "plt.ylabel('f1_score')\n",
    "plt.xlabel('hidden_units')\n",
    "plt.title('NN F1 Score for '+dataset)\n",
    "plt.legend()\n",
    "plt.grid()\n",
    "plt.savefig('img/NN_complexity '+dataset+'.png')\n",
    "plt.show()"
   ]
  },
  {
   "cell_type": "markdown",
   "metadata": {},
   "source": [
    "next section the code performes a grid search and prints the accuracy, grid search is looking for best amount of hidden units, and the best learning rate that will yield the best accuracy for the given dataset"
   ]
  },
  {
   "cell_type": "code",
   "execution_count": 10,
   "metadata": {},
   "outputs": [
    {
     "name": "stdout",
     "output_type": "stream",
     "text": [
      "Fitting 5 folds for each of 50 candidates, totalling 250 fits\n"
     ]
    },
    {
     "name": "stderr",
     "output_type": "stream",
     "text": [
      "[Parallel(n_jobs=2)]: Using backend LokyBackend with 2 concurrent workers.\n",
      "[Parallel(n_jobs=2)]: Done  28 tasks      | elapsed:   12.8s\n",
      "[Parallel(n_jobs=2)]: Done 124 tasks      | elapsed:  1.4min\n",
      "[Parallel(n_jobs=2)]: Done 250 out of 250 | elapsed:  4.2min finished\n"
     ]
    },
    {
     "name": "stdout",
     "output_type": "stream",
     "text": [
      "Tuned NN Parameters:  {'hidden_layer_sizes': 85, 'learning_rate_init': 0.01}\n",
      "Tuned Accuracy: 83.86%\n"
     ]
    }
   ],
   "source": [
    "hidden_units = np.arange(5,100,10)\n",
    "learning_rate = [0.001, 0.01, 0.05, 0.1,1]\n",
    "param_grid = {'hidden_layer_sizes' : hidden_units,\n",
    "              'learning_rate_init' : learning_rate}\n",
    "tuned_nn_clf = GridSearchCV(MLPClassifier(random_state=100),\n",
    "                           param_grid=param_grid,\n",
    "                           verbose=3,\n",
    "                           n_jobs=2)\n",
    "tuned_nn_clf.fit(X_train, y_train)\n",
    "print('Tuned NN Parameters: ', tuned_nn_clf.best_params_)\n",
    "nn_y_pred = tuned_nn_clf.predict(X_test)\n",
    "nn_acc = accuracy_score(y_test, nn_y_pred)*100\n",
    "print(\"Tuned Accuracy: %.2f%%\"%nn_acc)\n"
   ]
  },
  {
   "cell_type": "markdown",
   "metadata": {},
   "source": [
    "Confusion Matrix graphically shows the accuracy of the Neural Network"
   ]
  },
  {
   "cell_type": "code",
   "execution_count": 11,
   "metadata": {},
   "outputs": [
    {
     "data": {
      "image/png": "[encoded data removed]",
      "text/plain": [
       "<Figure size 432x288 with 2 Axes>"
      ]
     },
     "metadata": {
      "needs_background": "light"
     },
     "output_type": "display_data"
    }
   ],
   "source": [
    "plot_confusion_matrix(tuned_nn_clf, X_test, y_test, cmap=plt.cm.YlOrBr)\n",
    "plt.title('NN Confusion Matrix for '+dataset)\n",
    "plt.savefig('img/NN_confusion '+dataset+'.png')\n",
    "plt.show()\n"
   ]
  },
  {
   "cell_type": "markdown",
   "metadata": {},
   "source": [
    "Here we can see the learning curve with tuned classifier"
   ]
  },
  {
   "cell_type": "code",
   "execution_count": 12,
   "metadata": {},
   "outputs": [
    {
     "name": "stdout",
     "output_type": "stream",
     "text": [
      "[learning_curve] Training set sizes: [ 313  626  939 1252 1565 1878 2191 2504 2817 3131]\n"
     ]
    },
    {
     "name": "stderr",
     "output_type": "stream",
     "text": [
      "[Parallel(n_jobs=2)]: Using backend LokyBackend with 2 concurrent workers.\n",
      "[Parallel(n_jobs=2)]: Done  17 out of  50 | elapsed: 21.2min remaining: 41.1min\n",
      "[Parallel(n_jobs=2)]: Done  34 out of  50 | elapsed: 41.9min remaining: 19.7min\n",
      "[Parallel(n_jobs=2)]: Done  50 out of  50 | elapsed: 65.6min finished\n"
     ]
    },
    {
     "data": {
      "image/png": "[encoded data removed]",
      "text/plain": [
       "<Figure size 432x288 with 1 Axes>"
      ]
     },
     "metadata": {
      "needs_background": "light"
     },
     "output_type": "display_data"
    }
   ],
   "source": [
    "train_sizes, nn_train_scores, test_scores = learning_curve(tuned_nn_clf,\n",
    "                                                           X_train,\n",
    "                                                           y_train,\n",
    "                                                           train_sizes=np.linspace(0.1,1.0,10),\n",
    "                                                           verbose=3,\n",
    "                                                           n_jobs=2)\n",
    "plt.figure()\n",
    "plt.plot(train_sizes, np.mean(nn_train_scores, axis=1),'o-',\n",
    "        label='Training Score',color='orange')\n",
    "plt.plot(train_sizes, np.mean(test_scores, axis=1), 'o-',\n",
    "        label='Cross Validation Score',color='brown')\n",
    "plt.title('NN Learning Curve for '+dataset)\n",
    "plt.xlabel('Training Examples')\n",
    "plt.ylabel('Classicication Score')\n",
    "plt.legend()\n",
    "plt.grid()\n",
    "plt.savefig('img/NN_learning '+dataset+'.png')\n",
    "plt.show()"
   ]
  },
  {
   "cell_type": "markdown",
   "metadata": {},
   "source": [
    "Now the code will print the loss curve for a given dataset, Loss Curve represents overfitting or underfitting"
   ]
  },
  {
   "cell_type": "code",
   "execution_count": 13,
   "metadata": {},
   "outputs": [
    {
     "name": "stderr",
     "output_type": "stream",
     "text": [
      "No handles with labels found to put in legend.\n"
     ]
    },
    {
     "data": {
      "image/png": "[encoded data removed]",
      "text/plain": [
       "<Figure size 432x288 with 1 Axes>"
      ]
     },
     "metadata": {
      "needs_background": "light"
     },
     "output_type": "display_data"
    }
   ],
   "source": [
    "tuned_nn_clf.best_params_\n",
    "nn_clf = MLPClassifier(hidden_layer_sizes=tuned_nn_clf.best_params_['hidden_layer_sizes'],\n",
    "                       learning_rate_init=tuned_nn_clf.best_params_['learning_rate_init'],\n",
    "                       random_state=100, max_iter=100)\n",
    "nn_clf.fit(X_train, y_train)\n",
    "nn_loss= nn_clf.loss_curve_\n",
    "plt.figure()\n",
    "plt.title('NN Loss Curve '+dataset)\n",
    "\n",
    "plt.xlabel('Number of Iterations')\n",
    "plt.ylabel('Loss')\n",
    "plt.plot(nn_loss, 'o-', color='brown')\n",
    "plt.grid()\n",
    "plt.legend()\n",
    "plt.savefig('img/NN_loss '+dataset+'.png')\n",
    "plt.show()"
   ]
  },
  {
   "cell_type": "markdown",
   "metadata": {},
   "source": [
    "# SVM\n",
    "For the SVM it is important to analyze each kernel, below code will print a graph that will show the F1 Score for each kernel"
   ]
  },
  {
   "cell_type": "code",
   "execution_count": 14,
   "metadata": {},
   "outputs": [
    {
     "data": {
      "image/png": "[encoded data removed]",
      "text/plain": [
       "<Figure size 432x288 with 1 Axes>"
      ]
     },
     "metadata": {
      "needs_background": "light"
     },
     "output_type": "display_data"
    }
   ],
   "source": [
    "f1_test, f1_train = np.array([]), np.array([])\n",
    "kernel = ['linear', 'poly', 'rbf', 'sigmoid']\n",
    "for i in kernel:\n",
    "    svc_clf = SVC(kernel=i, random_state=100)\n",
    "    svc_clf.fit(X_train, y_train)\n",
    "    test_y_pred = svc_clf.predict(X_test)\n",
    "    train_y_pred = svc_clf.predict(X_train)\n",
    "    f1_test = np.append(f1_test,f1_score(y_test, test_y_pred))\n",
    "    f1_train = np.append(f1_train,f1_score(y_train, train_y_pred))\n",
    "    \n",
    "x = [1,2,3,4]\n",
    "y = f1_test\n",
    "y2 = f1_train\n",
    "fig, ax = plt.subplots(1,1)\n",
    "ax.plot(x,y,color='orange',marker='o')\n",
    "ax.plot(x,y2,color='brown',marker='o')\n",
    "ax.set_xticks(x)\n",
    "ax.set_xticklabels(kernel)\n",
    "test_patch = mpatches.Patch(color='orange', label='Test')\n",
    "train_patch = mpatches.Patch(color='brown', label='Train')\n",
    "plt.legend(handles=[test_patch, train_patch])\n",
    "#plt.plot(x, f1_test, '0-', color='r', label='Test F1 Score')\n",
    "#plt.plot(x, f1_train, '0-', color='b', label='Train F1 Score')\n",
    "plt.ylabel('f1_score')\n",
    "plt.xlabel('kernel')\n",
    "plt.title('SVMs F1 Score '+dataset)\n",
    "plt.grid()\n",
    "plt.savefig('img/SVM_complexity '+dataset+'.png')\n",
    "plt.show()"
   ]
  },
  {
   "cell_type": "markdown",
   "metadata": {},
   "source": [
    "This section the code will perform a grid search on c, gamma, and kernel. After Grid Search the tuned parameters and the tuned accuracy is printed"
   ]
  },
  {
   "cell_type": "code",
   "execution_count": 15,
   "metadata": {},
   "outputs": [
    {
     "name": "stdout",
     "output_type": "stream",
     "text": [
      "Fitting 5 folds for each of 48 candidates, totalling 240 fits\n"
     ]
    },
    {
     "name": "stderr",
     "output_type": "stream",
     "text": [
      "[Parallel(n_jobs=2)]: Using backend LokyBackend with 2 concurrent workers.\n",
      "[Parallel(n_jobs=2)]: Done  70 tasks      | elapsed:    5.4s\n",
      "[Parallel(n_jobs=2)]: Done 240 out of 240 | elapsed:   36.3s finished\n"
     ]
    },
    {
     "name": "stdout",
     "output_type": "stream",
     "text": [
      "SVM tuned paramters:  {'C': 10.0, 'gamma': 1, 'kernel': 'rbf'}\n",
      "Tuned Accuracy: 86.72%\n"
     ]
    }
   ],
   "source": [
    "c = [1e-4, 1e-3, 1e-2, 1e-1, 1e0, 1e1]\n",
    "gamma = [1,10,100, 1000]\n",
    "param_grid = {'kernel' : ['linear', 'rbf'],\n",
    "              'C' : c,\n",
    "              'gamma' : gamma}\n",
    "tuned_svc_clf = GridSearchCV(SVC(random_state=100),\n",
    "                             param_grid=param_grid,\n",
    "                             verbose=2,\n",
    "                             n_jobs=2)\n",
    "tuned_svc_clf.fit(X_train, y_train)\n",
    "print('SVM tuned paramters: ', tuned_svc_clf.best_params_)\n",
    "svc_y_pred = tuned_svc_clf.predict(X_test)\n",
    "svc_acc = accuracy_score(y_test, svc_y_pred)*100\n",
    "print(\"Tuned Accuracy: %.2f%%\"%svc_acc)"
   ]
  },
  {
   "cell_type": "markdown",
   "metadata": {},
   "source": [
    "Now the code will show a plot of the learning curve with tuned parameters"
   ]
  },
  {
   "cell_type": "code",
   "execution_count": null,
   "metadata": {},
   "outputs": [
    {
     "name": "stdout",
     "output_type": "stream",
     "text": [
      "[learning_curve] Training set sizes: [ 313  626  939 1252 1565 1878 2191 2504 2817 3131]\n"
     ]
    },
    {
     "name": "stderr",
     "output_type": "stream",
     "text": [
      "[Parallel(n_jobs=2)]: Using backend LokyBackend with 2 concurrent workers.\n"
     ]
    }
   ],
   "source": [
    "train_sizes = np.linspace(0.1,1.0,10)\n",
    "train_sizes, svm_train_scores, test_scores = learning_curve(tuned_svc_clf,\n",
    "                                                        X_train,\n",
    "                                                        y_train,\n",
    "                                                        train_sizes=train_sizes,\n",
    "                                                        verbose=3,\n",
    "                                                           n_jobs=2)\n",
    "plt.figure()\n",
    "plt.plot(train_sizes, np.mean(svm_train_scores, axis=1),'o-',\n",
    "        label='Training Score',color='orange')\n",
    "plt.plot(train_sizes, np.mean(test_scores, axis=1), 'o-',\n",
    "        label='Cross Validation Score',color='brown')\n",
    "plt.title('SVM Learning Curve for '+dataset)\n",
    "plt.xlabel('Training Examples')\n",
    "plt.ylabel('Classicication Score')\n",
    "plt.legend(loc='best')\n",
    "plt.grid()\n",
    "plt.savefig('img/SVM_learning '+dataset+'.png')\n",
    "plt.show()"
   ]
  },
  {
   "cell_type": "markdown",
   "metadata": {},
   "source": [
    "Next Confusion Matrix can be viewed to see in graphical format the accuracy of the learning algorithm"
   ]
  },
  {
   "cell_type": "code",
   "execution_count": null,
   "metadata": {},
   "outputs": [],
   "source": [
    "plot_confusion_matrix(tuned_svc_clf, X_test, y_test, cmap=plt.cm.YlOrBr)\n",
    "plt.title('SVM Confusion Matrix',fontsize=16)\n",
    "plt.savefig('img/SVM_confusion '+dataset+'.png')\n",
    "plt.show()"
   ]
  },
  {
   "cell_type": "markdown",
   "metadata": {},
   "source": [
    "# Boosting"
   ]
  },
  {
   "cell_type": "markdown",
   "metadata": {},
   "source": [
    "for the Gradient boosting classifier one of the main things to tune is the number of estimators, this code priunts a graph that shows how the number of estimators can improve the accuracy of this classifier"
   ]
  },
  {
   "cell_type": "code",
   "execution_count": null,
   "metadata": {},
   "outputs": [],
   "source": [
    "f1_test, f1_train = np.array([]), np.array([])\n",
    "n = np.arange(1,300,6)\n",
    "for i in n:\n",
    "    boost_clf = GradientBoostingClassifier(n_estimators=i,\n",
    "                                           random_state=100)\n",
    "    boost_clf.fit(X_train, y_train)\n",
    "    test_y_pred = boost_clf.predict(X_test)\n",
    "    train_y_pred = boost_clf.predict(X_train)\n",
    "    f1_test = np.append(f1_test,f1_score(y_test, test_y_pred))\n",
    "    f1_train = np.append(f1_train,f1_score(y_train, train_y_pred))\n",
    "    \n",
    "plt.plot(n, f1_test, 'o-', color='orange', label='Test')\n",
    "plt.plot(n, f1_train, 'o-', color='brown', label='Train')\n",
    "plt.ylabel('f1_score')\n",
    "plt.xlabel('Estimators')\n",
    "plt.title('Boosting F1 Score for '+dataset)\n",
    "plt.grid()\n",
    "plt.legend()\n",
    "plt.savefig('img/boosting_complexity '+dataset+'.png')\n",
    "plt.show()"
   ]
  },
  {
   "cell_type": "markdown",
   "metadata": {},
   "source": [
    "This is the most extentive Grid Search in this project, code below analyzes min_samples_leaf, max_depth, n_estimators, learning_rates. After usually long analysis this piece of code will print out those tuned paramteres for the given dataset"
   ]
  },
  {
   "cell_type": "code",
   "execution_count": null,
   "metadata": {},
   "outputs": [],
   "source": [
    "min_samples_leaf = np.linspace(0.1, 0.5, 5, endpoint=True)\n",
    "max_depth = np.arange(1,4)\n",
    "n_estimators = np.arange(1,60,6)\n",
    "learning_rates = np.linspace(.001,.1,3)\n",
    "param_grid = {'min_samples_leaf' : min_samples_leaf,\n",
    "              'max_depth' : max_depth,\n",
    "              'n_estimators' : n_estimators,\n",
    "              'learning_rate' : learning_rate}\n",
    "tuned_boost_clf = GridSearchCV(GradientBoostingClassifier(),\n",
    "                               param_grid = param_grid,\n",
    "                               verbose=3,\n",
    "                              n_jobs=2)\n",
    "tuned_boost_clf.fit(X_train, y_train)\n",
    "print(\"Tuned Boosting Parameters: \", tuned_boost_clf.best_params_)\n",
    "boost_y_pred = tuned_boost_clf.predict(X_test)\n",
    "boost_acc = accuracy_score(y_test, boost_y_pred)*100\n",
    "print(\"Tuned Accuracy: %.2f%%\"%boost_acc)"
   ]
  },
  {
   "cell_type": "markdown",
   "metadata": {},
   "source": [
    "now the code will show a confusion matrix, which is a graphical way of seeing the accuracy of the classifier."
   ]
  },
  {
   "cell_type": "code",
   "execution_count": null,
   "metadata": {},
   "outputs": [],
   "source": [
    "plot_confusion_matrix(tuned_svc_clf, X_test, y_test, cmap=plt.cm.YlOrBr)\n",
    "plt.title('Boosting Confusion Matrix '+dataset)\n",
    "plt.savefig('img/boosting_confusion '+dataset+'.png')\n",
    "plt.show()\n"
   ]
  },
  {
   "cell_type": "markdown",
   "metadata": {},
   "source": [
    "now the code will print the learning curve with the tuned parameters"
   ]
  },
  {
   "cell_type": "code",
   "execution_count": null,
   "metadata": {},
   "outputs": [],
   "source": [
    "train_sizes, boost_train_scores, test_scores = learning_curve(tuned_boost_clf,\n",
    "                                                        X_train,\n",
    "                                                        y_train,\n",
    "                                                        train_sizes=np.linspace(0.1,1.0,10),\n",
    "                                                        verbose=3,\n",
    "                                                             n_jobs=2)\n",
    "plt.figure()\n",
    "plt.plot(train_sizes, np.mean(boost_train_scores, axis=1),'o-',\n",
    "        label='Training Score',color='orange')\n",
    "plt.plot(train_sizes, np.mean(test_scores, axis=1), 'o-',\n",
    "        label='Cross Validation Score',color='brown')\n",
    "plt.title('Boosting Learning Curve for '+dataset)\n",
    "plt.xlabel('Training Examples')\n",
    "plt.ylabel('Classicication Score')\n",
    "plt.legend()\n",
    "plt.grid()\n",
    "plt.savefig('img/boosting_learning '+dataset+'.png')\n",
    "plt.show()"
   ]
  },
  {
   "cell_type": "markdown",
   "metadata": {},
   "source": [
    "# KNN"
   ]
  },
  {
   "cell_type": "markdown",
   "metadata": {},
   "source": [
    "now the code will print an f1 score curve when compared to the number of k nearest neighbors"
   ]
  },
  {
   "cell_type": "code",
   "execution_count": null,
   "metadata": {},
   "outputs": [],
   "source": [
    "f1_test, f1_train = np.array([]), np.array([])\n",
    "ks = np.arange(1,151,10)\n",
    "for i in ks:\n",
    "    knn_clf = KNeighborsClassifier(n_neighbors = i)\n",
    "    knn_clf.fit(X_train, y_train)\n",
    "    test_y_pred = knn_clf.predict(X_test)\n",
    "    train_y_pred = knn_clf.predict(X_train)\n",
    "    f1_test = np.append(f1_test,f1_score(y_test, test_y_pred))\n",
    "    f1_train = np.append(f1_train,f1_score(y_train, train_y_pred))\n",
    "    \n",
    "plt.plot(ks, f1_test, 'o-', color='orange', label='Test')\n",
    "plt.plot(ks, f1_train, 'o-', color='brown', label='Train')\n",
    "plt.ylabel(\"f1_score\")\n",
    "plt.xlabel(\"Neighbors\")\n",
    "plt.title('kNN F1 Score for '+dataset)\n",
    "plt.grid()\n",
    "plt.legend()\n",
    "plt.savefig('img/kNN_complexity '+dataset+'.png')\n",
    "plt.show()"
   ]
  },
  {
   "cell_type": "markdown",
   "metadata": {},
   "source": [
    "now the code will perform a Grid Search on kNN searching for the best amount of nearest neighbors, type of weights, type of metric"
   ]
  },
  {
   "cell_type": "code",
   "execution_count": null,
   "metadata": {},
   "outputs": [],
   "source": [
    "ks = np.arange(1,151,10)\n",
    "param_grid = {'n_neighbors' : ks,\n",
    "           'weights' : ['uniform', 'distance'],\n",
    "           'metric': ['euclidean', 'manhattan']}\n",
    "tuned_knn_clf = GridSearchCV(KNeighborsClassifier(),\n",
    "                             param_grid=param_grid,\n",
    "                             verbose=3,\n",
    "                             n_jobs=2)\n",
    "tuned_knn_clf.fit(X_train, y_train)\n",
    "print(\"Tuned Boosted DT Parameters: \", tuned_knn_clf.best_params_)\n",
    "knn_y_pred = tuned_knn_clf.predict(X_test)\n",
    "knn_acc = accuracy_score(y_test, knn_y_pred)*100\n",
    "print(\"Tuned Accuracy: %.2f%%\"%knn_acc)\n",
    "print(tuned_knn_clf.best_params_['n_neighbors'])"
   ]
  },
  {
   "cell_type": "markdown",
   "metadata": {},
   "source": [
    "this section of code will create a Confusion Matrix, to graphically show the accuracy of the classifier"
   ]
  },
  {
   "cell_type": "code",
   "execution_count": null,
   "metadata": {},
   "outputs": [],
   "source": [
    "plot_confusion_matrix(tuned_knn_clf, X_test, y_test, cmap=plt.cm.YlOrBr)\n",
    "plt.title('kNN Confusion Matrix for '+dataset)\n",
    "plt.savefig('img/kNN_confusion '+dataset+'.png')\n",
    "plt.show()"
   ]
  },
  {
   "cell_type": "markdown",
   "metadata": {},
   "source": [
    "next section will show a plot with the tuned parameters"
   ]
  },
  {
   "cell_type": "code",
   "execution_count": null,
   "metadata": {},
   "outputs": [],
   "source": [
    "train_sizes, knn_train_scores, test_scores = learning_curve(tuned_knn_clf,\n",
    "                                                        X_train,\n",
    "                                                        y_train,\n",
    "                                                        train_sizes=np.linspace(0.1,1.0,10),\n",
    "                                                        verbose=3,\n",
    "                                                           n_jobs=2)\n",
    "plt.figure()\n",
    "plt.plot(train_sizes, np.mean(knn_train_scores, axis=1),'o-',\n",
    "        label='Training Score',color='orange')\n",
    "plt.plot(train_sizes, np.mean(test_scores, axis=1), 'o-',\n",
    "        label='Cross Validation Score',color='brown')\n",
    "plt.title('kNN Learning Curve for '+dataset)\n",
    "plt.xlabel('Training Examples')\n",
    "plt.ylabel('Classicication Score')\n",
    "plt.legend()\n",
    "plt.grid()\n",
    "plt.savefig('img/kNN_learning '+dataset+'.png')\n",
    "plt.show()"
   ]
  },
  {
   "cell_type": "markdown",
   "metadata": {},
   "source": [
    "# Learning Rate Comparison"
   ]
  },
  {
   "cell_type": "code",
   "execution_count": null,
   "metadata": {},
   "outputs": [],
   "source": [
    "plt.figure()\n",
    "plt.title('Learning Rates Comparison '+dataset)\n",
    "plt.xlabel('Training Samples')\n",
    "plt.ylabel('f1_score')\n",
    "plt.plot(train_sizes, np.mean(nn_train_scores, axis=1), 'o-', color=\"orange\", label=\"Neural Network\")\n",
    "plt.plot(train_sizes, np.mean(svm_train_scores, axis=1), 'o-', color=\"red\", label=\"SVM\")\n",
    "plt.plot(train_sizes, np.mean(knn_train_scores, axis=1), 'o-', color=\"brown\", label=\"kNN\")\n",
    "plt.plot(train_sizes, np.mean(dt_train_scores, axis=1), 'o-', color=\"gold\", label=\"Decision Tree\")\n",
    "plt.plot(train_sizes, np.mean(boost_train_scores, axis=1), 'o-', color=\"black\", label=\"Boosted DT\")\n",
    "plt.grid()\n",
    "lgd = plt.legend(bbox_to_anchor=(1,1),loc='upper left')\n",
    "plt.savefig('img/learning_rates_comparison '+dataset+'.png', bbox_extra_artists=(lgd,), bbox_inches='tight')\n",
    "plt.show()"
   ]
  },
  {
   "cell_type": "markdown",
   "metadata": {},
   "source": [
    "# Data prep for the train and fit times plots"
   ]
  },
  {
   "cell_type": "code",
   "execution_count": null,
   "metadata": {},
   "outputs": [],
   "source": [
    "#DT Best Parameters\n",
    "dt_max_depth = tuned_dt_clf.best_params_['max_depth']\n",
    "#NN Best Parameters\n",
    "nn_hlayers_size = tuned_nn_clf.best_params_['hidden_layer_sizes']\n",
    "nn_learning_rate = tuned_nn_clf.best_params_['learning_rate_init']\n",
    "#SVM Best Parameters\n",
    "svm_C = tuned_svc_clf.best_params_['C']\n",
    "svm_gamma = tuned_svc_clf.best_params_['gamma']\n",
    "svm_kernel = tuned_svc_clf.best_params_['kernel']\n",
    "#Boosting Best Parameters\n",
    "boost_learning_rate = tuned_boost_clf.best_params_['learning_rate']\n",
    "boost_max_depth = tuned_boost_clf.best_params_['max_depth']\n",
    "boost_min_samples_leaf = tuned_boost_clf.best_params_['min_samples_leaf']\n",
    "boost_n_estimators = tuned_boost_clf.best_params_['n_estimators']\n",
    "#kNN Best Parameters\n",
    "knn_metric = tuned_knn_clf.best_params_['metric']\n",
    "knn_n_neighbors = tuned_knn_clf.best_params_['n_neighbors']\n",
    "knn_weights = tuned_knn_clf.best_params_['weights']"
   ]
  },
  {
   "cell_type": "code",
   "execution_count": null,
   "metadata": {},
   "outputs": [],
   "source": [
    "_dt_clf = DecisionTreeClassifier(max_depth = dt_max_depth,\n",
    "                                random_state=100)\n",
    "dt_scores = cross_validate(_dt_clf,\n",
    "                           X,\n",
    "                           y_save,\n",
    "                           cv=10,\n",
    "                           scoring='f1',\n",
    "                           return_train_score=True)\n",
    "\n",
    "\n",
    "_nn_clf = MLPClassifier(hidden_layer_sizes=nn_hlayers_size,\n",
    "                        learning_rate_init=nn_learning_rate,\n",
    "                        random_state=100)\n",
    "nn_scores = cross_validate(_nn_clf,\n",
    "                           X,\n",
    "                           y_save,\n",
    "                           cv=10,\n",
    "                           scoring='f1',\n",
    "                           return_train_score=True)\n",
    "\n",
    "\n",
    "_svm_clf = SVC(C=svm_C,\n",
    "               gamma=svm_gamma,\n",
    "               kernel=svm_kernel,\n",
    "               random_state=100)\n",
    "svm_scores = cross_validate(_svm_clf,\n",
    "                            X,\n",
    "                            y_save,\n",
    "                            cv=10,\n",
    "                            scoring='f1',\n",
    "                            return_train_score=True)\n",
    "\n",
    "\n",
    "_boost_clf = GradientBoostingClassifier(learning_rate=boost_learning_rate,\n",
    "                                       max_depth=boost_max_depth,\n",
    "                                       min_samples_leaf=boost_min_samples_leaf,\n",
    "                                       n_estimators=boost_n_estimators,\n",
    "                                       random_state=100)\n",
    "boost_scores = cross_validate(_boost_clf,\n",
    "                              X,\n",
    "                              y_save,\n",
    "                              cv=10,\n",
    "                              scoring='f1',\n",
    "                              return_train_score=True)\n",
    "\n",
    "\n",
    "_knn_clf = KNeighborsClassifier(metric=knn_metric,\n",
    "                                n_neighbors=knn_n_neighbors,\n",
    "                                weights=knn_weights)\n",
    "knn_scores = cross_validate(_knn_clf,\n",
    "                            X,\n",
    "                            y_save,\n",
    "                            cv=10,\n",
    "                            scoring='f1',\n",
    "                            return_train_score=True)"
   ]
  },
  {
   "cell_type": "code",
   "execution_count": null,
   "metadata": {},
   "outputs": [],
   "source": [
    "x_ticks = np.arange(1,11,1)\n",
    "plt.figure()\n",
    "plt.title('Fit Time Comparison '+dataset)\n",
    "plt.xlabel('Folds')\n",
    "plt.ylabel('Fit Time')\n",
    "plt.plot(x_ticks,dt_scores['fit_time'], 'o-', color=\"gold\", label=\"Decision Tree\")\n",
    "plt.plot(x_ticks, nn_scores['fit_time'], 'o-', color=\"orange\", label=\"Neural Network\")\n",
    "plt.plot(x_ticks, svm_scores['fit_time'], 'o-', color=\"red\", label=\"SVM\")\n",
    "plt.plot(x_ticks, boost_scores['fit_time'], 'o-', color=\"brown\", label=\"Bosted DT\")\n",
    "plt.plot(x_ticks, knn_scores['fit_time'], 'o-', color=\"black\", label=\"kNN\")\n",
    "plt.grid()\n",
    "lgd = plt.legend(bbox_to_anchor=(1,1),loc='upper left')\n",
    "plt.savefig('img/fit_time_comparison '+dataset+'.png', bbox_extra_artists=(lgd,), bbox_inches='tight')\n",
    "plt.show()"
   ]
  },
  {
   "cell_type": "code",
   "execution_count": null,
   "metadata": {},
   "outputs": [],
   "source": [
    "x_ticks = np.arange(1,11,1)\n",
    "plt.figure()\n",
    "plt.title('Score Time Comparison '+dataset)\n",
    "plt.xlabel('Folds')\n",
    "plt.ylabel('Score Time')\n",
    "plt.plot(x_ticks,dt_scores['score_time'], 'o-', color=\"gold\", label=\"Decision Tree\")\n",
    "plt.plot(x_ticks, nn_scores['score_time'], 'o-', color=\"orange\", label=\"Neural Network\")\n",
    "plt.plot(x_ticks, svm_scores['score_time'], 'o-', color=\"red\", label=\"SVM\")\n",
    "plt.plot(x_ticks, boost_scores['score_time'], 'o-', color=\"brown\", label=\"Bosted DT\")\n",
    "plt.plot(x_ticks, knn_scores['score_time'], 'o-', color=\"black\", label=\"kNN\")\n",
    "plt.grid()\n",
    "lgd = plt.legend(bbox_to_anchor=(1,1),loc='upper left')\n",
    "plt.savefig('img/score_time_comparison '+dataset+'.png', bbox_extra_artists=(lgd,), bbox_inches='tight')\n",
    "plt.show()"
   ]
  },
  {
   "cell_type": "markdown",
   "metadata": {},
   "source": [
    "# Plot of the Accuracy Comparison"
   ]
  },
  {
   "cell_type": "code",
   "execution_count": null,
   "metadata": {},
   "outputs": [],
   "source": [
    "bars=('DT','NN','SVM','Boost','kNN')\n",
    "y_pos=np.arange(len(bars))\n",
    "height = [dt_acc,nn_acc,svc_acc,boost_acc,knn_acc]\n",
    "color = ['gold', 'orange', 'red', 'brown', 'black']\n",
    "plt.bar(y_pos, height, color=color)\n",
    "plt.ylim(min(height)-2, max(height)+2)\n",
    "plt.xticks(y_pos,bars)\n",
    "plt.title(\"Accuracy Comparison \"+dataset)\n",
    "plt.ylabel('Accuracy')\n",
    "plt.xlabel('Algorithm')\n",
    "plt.savefig('img/accuracy_comparison '+dataset+'.png')\n",
    "plt.plot()"
   ]
  },
  {
   "cell_type": "code",
   "execution_count": null,
   "metadata": {},
   "outputs": [],
   "source": [
    "print(\"Total Time: \", time.time() - start_time)"
   ]
  }
 ],
 "metadata": {
  "kernelspec": {
   "display_name": "Python 3",
   "language": "python",
   "name": "python3"
  },
  "language_info": {
   "codemirror_mode": {
    "name": "ipython",
    "version": 3
   },
   "file_extension": ".py",
   "mimetype": "text/x-python",
   "name": "python",
   "nbconvert_exporter": "python",
   "pygments_lexer": "ipython3",
   "version": "3.8.5"
  }
 },
 "nbformat": 4,
 "nbformat_minor": 4
}
