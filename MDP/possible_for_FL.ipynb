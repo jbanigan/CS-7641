{
 "cells": [
  {
   "cell_type": "code",
   "execution_count": 7,
   "id": "3014d8ce",
   "metadata": {},
   "outputs": [],
   "source": [
    "import gym\n",
    "import numpy as np\n",
    "import time\n",
    "import matplotlib.pyplot as plt"
   ]
  },
  {
   "cell_type": "code",
   "execution_count": 27,
   "id": "3ab75af3",
   "metadata": {},
   "outputs": [],
   "source": [
    "epsilon = 0.9\n",
    "min_epsilon = 0.01\n",
    "decay_rate = 0.9\n",
    "episodes = 20000\n",
    "max_steps = 1000000\n",
    "learning_rate = 0.81\n",
    "gamma = 0.96\n",
    "env = gym.make('FrozenLake-v0')\n",
    "Q = np.zeros((env.observation_space.n, env.action_space.n))\n",
    "rewards = []\n",
    "\n",
    "def choose_action(observation):\n",
    "    action = 0\n",
    "    if np.random.rand() < epsilon:\n",
    "        action = env.action_space.sample()\n",
    "    else:\n",
    "        action = np.argmax(Q[observation, :])\n",
    "    return action\n",
    "\n",
    "def learn(observation, observation2, reward, action):\n",
    "    prediction = Q[observation, action]\n",
    "    target = reward + gamma * np.max(Q[observation2, :])\n",
    "    Q[observation, action] = Q[observation, action] + learning_rate * (target - prediction)\n",
    "    \n",
    "for episode in range(episodes):\n",
    "    obs = env.reset()\n",
    "    temp = 0\n",
    "    done = False\n",
    "\n",
    "    for i in range(max_steps):\n",
    "        if done:\n",
    "            break\n",
    "        action = choose_action(obs)\n",
    "        obs2, reward, done, info = env.step(action)\n",
    "        temp += reward\n",
    "        learn(obs, obs2, reward, action)\n",
    "        obs = obs2\n",
    "    if episode % 100 == 99:\n",
    "        epsilon *= decay_rate\n",
    "        epsilon = max(epsilon, min_epsilon)\n",
    "    rewards.append(temp)"
   ]
  },
  {
   "cell_type": "code",
   "execution_count": 28,
   "id": "68286efc",
   "metadata": {},
   "outputs": [
    {
     "data": {
      "text/plain": [
       "[<matplotlib.lines.Line2D at 0x7f1e96790e10>]"
      ]
     },
     "execution_count": 28,
     "metadata": {},
     "output_type": "execute_result"
    },
    {
     "data": {
      "image/png": "[encoded data removed]",
      "text/plain": [
       "<Figure size 432x288 with 1 Axes>"
      ]
     },
     "metadata": {
      "needs_background": "light"
     },
     "output_type": "display_data"
    }
   ],
   "source": [
    "plt.plot(rewards)"
   ]
  },
  {
   "cell_type": "code",
   "execution_count": 29,
   "id": "fdacb9f5",
   "metadata": {},
   "outputs": [
    {
     "data": {
      "image/png": "[encoded data removed]",
      "text/plain": [
       "<Figure size 432x288 with 1 Axes>"
      ]
     },
     "metadata": {
      "needs_background": "light"
     },
     "output_type": "display_data"
    }
   ],
   "source": [
    "def chunk_list(l, n):\n",
    "    for i in range(0, len(l), n):\n",
    "        yield l[i:i + n]\n",
    "\n",
    "size = int(episodes / 50)\n",
    "chunks = list(chunk_list(rewards, size))\n",
    "averages = [sum(chunk) / len(chunk) for chunk in chunks]\n",
    "\n",
    "plt.plot(range(0, len(rewards), size), averages)\n",
    "plt.xlabel('Iterations')\n",
    "plt.ylabel('Average Reward')\n",
    "plt.show()\n",
    "    "
   ]
  },
  {
   "cell_type": "code",
   "execution_count": 20,
   "id": "f5da3784",
   "metadata": {},
   "outputs": [
    {
     "data": {
      "text/plain": [
       "'  if episode % 100 == 99:\\n        epsilon *= decay_rate\\n        epsilon = max(epsilon, min_epsilon) '"
      ]
     },
     "execution_count": 20,
     "metadata": {},
     "output_type": "execute_result"
    }
   ],
   "source": [
    "if episode % 100 == 99:\n",
    "    epsilon *= decay_rate\n",
    "    epsilon = max(epsilon, min_epsilon)"
   ]
  },
  {
   "cell_type": "code",
   "execution_count": null,
   "id": "0cf4181b",
   "metadata": {},
   "outputs": [],
   "source": [
    "def choose_action(observation):\n",
    "    action = 0\n",
    "    if np.random.rand() < epsilon:\n",
    "        action = env.action_space.sample()\n",
    "\n",
    "    else:\n",
    "        action = np.argmax(Q[observation, :])\n",
    "    return action\n",
    "\n",
    "def choose_action(observation):\n",
    "    action = 0\n",
    "    if np.random.rand() < epsilon:\n",
    "        action = np.argmax(Q[observation, :])\n",
    "    else:\n",
    "        action = env.action_space.sample()\n",
    "    return action"
   ]
  }
 ],
 "metadata": {
  "kernelspec": {
   "display_name": "Python 3",
   "language": "python",
   "name": "python3"
  },
  "language_info": {
   "codemirror_mode": {
    "name": "ipython",
    "version": 3
   },
   "file_extension": ".py",
   "mimetype": "text/x-python",
   "name": "python",
   "nbconvert_exporter": "python",
   "pygments_lexer": "ipython3",
   "version": "3.7.6"
  }
 },
 "nbformat": 4,
 "nbformat_minor": 5
}
