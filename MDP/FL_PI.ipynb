{
 "cells": [
  {
   "cell_type": "code",
   "execution_count": 1,
   "metadata": {},
   "outputs": [],
   "source": [
    "import numpy as np\n",
    "import gym\n",
    "from gym import wrappers\n",
    "import time\n",
    "import matplotlib.pyplot as plt\n",
    "from helper import policy_iteration, evaluate_policy"
   ]
  },
  {
   "cell_type": "code",
   "execution_count": 2,
   "metadata": {},
   "outputs": [
    {
     "name": "stdout",
     "output_type": "stream",
     "text": [
      "Policy-Iteration converged at step 4.\n",
      "[1. 2. 0. 3. 0. 0. 0. 0. 3. 1. 0. 0. 0. 2. 1. 0.]\n",
      "Policy-Iteration converged at step 5.\n",
      "[2. 3. 2. 3. 0. 0. 0. 0. 3. 1. 0. 0. 0. 2. 1. 0.]\n",
      "Policy-Iteration converged at step 4.\n",
      "[1. 3. 2. 3. 0. 0. 0. 0. 3. 1. 0. 0. 0. 2. 1. 0.]\n",
      "Policy-Iteration converged at step 3.\n",
      "[1. 3. 2. 3. 0. 0. 0. 0. 3. 1. 0. 0. 0. 2. 1. 0.]\n",
      "Policy-Iteration converged at step 3.\n",
      "[1. 3. 2. 3. 0. 0. 0. 0. 3. 1. 0. 0. 0. 2. 1. 0.]\n",
      "Policy-Iteration converged at step 4.\n",
      "[2. 3. 2. 3. 0. 0. 0. 0. 3. 1. 0. 0. 0. 2. 1. 0.]\n",
      "Policy-Iteration converged at step 4.\n",
      "[1. 3. 2. 3. 0. 0. 0. 0. 3. 1. 0. 0. 0. 2. 1. 0.]\n",
      "Policy-Iteration converged at step 4.\n",
      "[1. 3. 2. 3. 0. 0. 0. 0. 3. 1. 0. 0. 0. 2. 1. 0.]\n",
      "Policy-Iteration converged at step 4.\n",
      "[0. 3. 0. 3. 0. 0. 0. 0. 3. 1. 0. 0. 0. 2. 1. 0.]\n",
      "Policy-Iteration converged at step 5.\n",
      "[0. 3. 0. 3. 0. 0. 0. 0. 3. 1. 0. 0. 0. 2. 1. 0.]\n"
     ]
    },
    {
     "data": {
      "image/png": "[encoded data removed]",
      "text/plain": [
       "<Figure size 432x288 with 1 Axes>"
      ]
     },
     "metadata": {
      "needs_background": "light"
     },
     "output_type": "display_data"
    },
    {
     "name": "stdout",
     "output_type": "stream",
     "text": [
      "Average scores =  0.1990368630392938\n"
     ]
    }
   ],
   "source": [
    "env_name  = 'FrozenLake-v0'\n",
    "env = gym.make(env_name)\n",
    "env = env.unwrapped\n",
    "times=[0]*10\n",
    "gammas=[0]*10\n",
    "iterations=[0]*10\n",
    "listscore=[0]*10\n",
    "for i in range(0,10):\n",
    "    start=time.time()\n",
    "    optimal_policy,k = policy_iteration(env, gamma = (i+0.5)/10)\n",
    "    scores = evaluate_policy(env, optimal_policy, gamma = (i+0.5)/10)\n",
    "    end=time.time()\n",
    "    gammas[i]=(i+0.5)/10\n",
    "    listscore[i]=np.mean(scores)\n",
    "    iterations[i]=k\n",
    "    times[i]=end-start\n",
    "    print(optimal_policy)\n",
    "plt.plot(gammas, times)\n",
    "plt.xlabel('Gammas')\n",
    "plt.ylabel('Time of execution')\n",
    "plt.show()\n",
    "print('Average scores = ', np.mean(scores))"
   ]
  },
  {
   "cell_type": "code",
   "execution_count": null,
   "metadata": {},
   "outputs": [],
   "source": []
  }
 ],
 "metadata": {
  "kernelspec": {
   "display_name": "Python 3",
   "language": "python",
   "name": "python3"
  },
  "language_info": {
   "codemirror_mode": {
    "name": "ipython",
    "version": 3
   },
   "file_extension": ".py",
   "mimetype": "text/x-python",
   "name": "python",
   "nbconvert_exporter": "python",
   "pygments_lexer": "ipython3",
   "version": "3.8.5"
  }
 },
 "nbformat": 4,
 "nbformat_minor": 4
}
