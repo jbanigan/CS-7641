{
 "cells": [
  {
   "cell_type": "code",
   "execution_count": 3,
   "id": "5b088bac",
   "metadata": {},
   "outputs": [],
   "source": [
    "import gym\n",
    "import numpy as np\n",
    "import numpy.random as rnd\n",
    "import matplotlib.pyplot as plt\n",
    "from IPython.display import clear_output"
   ]
  },
  {
   "cell_type": "code",
   "execution_count": 4,
   "id": "8e0c7c8d",
   "metadata": {},
   "outputs": [
    {
     "name": "stdout",
     "output_type": "stream",
     "text": [
      "\n",
      "\u001b[41mS\u001b[0mFFF\n",
      "FHFH\n",
      "FFFH\n",
      "HFFG\n"
     ]
    }
   ],
   "source": [
    "%matplotlib inline\n",
    "env=gym.make('FrozenLake-v0')\n",
    "env.render()\n",
    "clear_output(wait=True)"
   ]
  },
  {
   "cell_type": "code",
   "execution_count": 5,
   "id": "77b469b5",
   "metadata": {},
   "outputs": [
    {
     "name": "stdout",
     "output_type": "stream",
     "text": [
      "0.29615\n",
      "[[4.28932978e-02 3.09164094e-02 2.49620228e-01 5.92013373e-02]\n",
      " [1.91729909e-02 1.52946321e-02 3.70308262e-05 1.19160323e-01]\n",
      " [4.99876686e-02 7.06805449e-03 1.56541028e-02 3.43289081e-02]\n",
      " [1.47455592e-02 6.77599915e-03 9.35054955e-03 4.31801904e-02]\n",
      " [3.77002988e-01 7.39759403e-02 2.17936658e-02 3.00232318e-02]\n",
      " [0.00000000e+00 0.00000000e+00 0.00000000e+00 0.00000000e+00]\n",
      " [6.18732383e-05 1.27965339e-03 4.00347093e-02 1.14985620e-08]\n",
      " [0.00000000e+00 0.00000000e+00 0.00000000e+00 0.00000000e+00]\n",
      " [9.71695611e-03 9.22027750e-03 2.59966166e-02 3.70913700e-01]\n",
      " [1.79997985e-02 1.93384601e-01 1.08333610e-03 1.01605343e-02]\n",
      " [7.96283036e-01 1.93600155e-02 3.50500705e-04 4.35762160e-03]\n",
      " [0.00000000e+00 0.00000000e+00 0.00000000e+00 0.00000000e+00]\n",
      " [0.00000000e+00 0.00000000e+00 0.00000000e+00 0.00000000e+00]\n",
      " [7.90414739e-02 1.24964896e-01 6.19509562e-01 2.25530562e-01]\n",
      " [4.54343973e-01 9.91155171e-01 5.00568736e-01 2.95181193e-01]\n",
      " [0.00000000e+00 0.00000000e+00 0.00000000e+00 0.00000000e+00]]\n"
     ]
    },
    {
     "data": {
      "text/plain": [
       "[<matplotlib.lines.Line2D at 0x7f87c100b650>]"
      ]
     },
     "execution_count": 5,
     "metadata": {},
     "output_type": "execute_result"
    },
    {
     "data": {
      "image/png": "[encoded data removed]",
      "text/plain": [
       "<Figure size 432x288 with 1 Axes>"
      ]
     },
     "metadata": {
      "needs_background": "light"
     },
     "output_type": "display_data"
    }
   ],
   "source": [
    "# https://zitaoshen.rbind.io/project/rl/1-min-of-reinforcement-learning-q-learning/\n",
    "\n",
    "Q = np.zeros([env.observation_space.n,env.action_space.n])\n",
    "alpha=0.8\n",
    "gamma=0.95\n",
    "number_episode=100000\n",
    "beta=0.3\n",
    "G=[]\n",
    "##loop for each episode\n",
    "for episode in range(number_episode):\n",
    "    s=env.reset()\n",
    "    G_episode=0\n",
    "    done=False\n",
    "    episode_length=0\n",
    "    epsilon = (1/(1+episode))**(beta)\n",
    "    while episode_length <=100:##  episode must be finished in 100 steps \n",
    "        if rnd.rand() < epsilon:## choose action epslone greedy\n",
    "            a = env.action_space.sample()## pick a random action\n",
    "        else:\n",
    "            a = np.argmax(Q[s,:])##choose an action\n",
    "        s_next,r,done,_=env.step(a)\n",
    "        ## update Q\n",
    "        Q[s,a]=Q[s,a]+alpha*(r+gamma*np.max(Q[s_next,:])-Q[s,a])\n",
    "        G_episode+=r\n",
    "        s=s_next\n",
    "        episode_length+=1\n",
    "        ## the current episode ends\n",
    "        if done == True:\n",
    "            break\n",
    "    G.append(G_episode)\n",
    "print (sum(G)/number_episode)\n",
    "print (Q)    \n",
    "plt.plot(np.cumsum(G)/np.arange(1,number_episode+1),'.') "
   ]
  },
  {
   "cell_type": "code",
   "execution_count": null,
   "id": "01c326d0",
   "metadata": {},
   "outputs": [],
   "source": []
  }
 ],
 "metadata": {
  "kernelspec": {
   "display_name": "Python 3",
   "language": "python",
   "name": "python3"
  },
  "language_info": {
   "codemirror_mode": {
    "name": "ipython",
    "version": 3
   },
   "file_extension": ".py",
   "mimetype": "text/x-python",
   "name": "python",
   "nbconvert_exporter": "python",
   "pygments_lexer": "ipython3",
   "version": "3.7.6"
  }
 },
 "nbformat": 4,
 "nbformat_minor": 5
}
