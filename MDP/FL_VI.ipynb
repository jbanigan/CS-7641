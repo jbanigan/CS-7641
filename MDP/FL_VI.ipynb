{
 "cells": [
  {
   "cell_type": "code",
   "execution_count": 1,
   "metadata": {},
   "outputs": [],
   "source": [
    "import numpy as np\n",
    "import gym\n",
    "from gym import wrappers\n",
    "import time\n",
    "import matplotlib.pyplot as plt\n",
    "from helper import policy_iteration, evaluate_policy, value_iteration, extract_policy"
   ]
  },
  {
   "cell_type": "code",
   "execution_count": 2,
   "metadata": {},
   "outputs": [
    {
     "name": "stdout",
     "output_type": "stream",
     "text": [
      "Value-iteration converged at iteration# 16.\n",
      "[1. 3. 2. 3. 0. 0. 0. 0. 3. 1. 0. 0. 0. 2. 1. 0.]\n",
      "Value-iteration converged at iteration# 25.\n",
      "[2. 3. 2. 3. 0. 0. 0. 0. 3. 1. 0. 0. 0. 2. 1. 0.]\n",
      "Value-iteration converged at iteration# 32.\n",
      "[1. 3. 2. 3. 0. 0. 0. 0. 3. 1. 0. 0. 0. 2. 1. 0.]\n",
      "Value-iteration converged at iteration# 40.\n",
      "[1. 3. 2. 3. 0. 0. 0. 0. 3. 1. 0. 0. 0. 2. 1. 0.]\n",
      "Value-iteration converged at iteration# 51.\n",
      "[1. 3. 2. 3. 0. 0. 0. 0. 3. 1. 0. 0. 0. 2. 1. 0.]\n",
      "Value-iteration converged at iteration# 64.\n",
      "[2. 3. 2. 3. 0. 0. 0. 0. 3. 1. 0. 0. 0. 2. 1. 0.]\n",
      "Value-iteration converged at iteration# 85.\n",
      "[1. 3. 2. 3. 0. 0. 0. 0. 3. 1. 0. 0. 0. 2. 1. 0.]\n",
      "Value-iteration converged at iteration# 113.\n",
      "[1. 3. 2. 3. 0. 0. 0. 0. 3. 1. 0. 0. 0. 2. 1. 0.]\n",
      "Value-iteration converged at iteration# 197.\n",
      "[0. 3. 0. 3. 0. 0. 0. 0. 3. 1. 0. 0. 0. 2. 1. 0.]\n",
      "Value-iteration converged at iteration# 427.\n",
      "[0. 3. 0. 3. 0. 0. 0. 0. 3. 1. 0. 0. 0. 2. 1. 0.]\n"
     ]
    },
    {
     "data": {
      "image/png": "[encoded data removed]",
      "text/plain": [
       "<Figure size 432x288 with 1 Axes>"
      ]
     },
     "metadata": {
      "needs_background": "light"
     },
     "output_type": "display_data"
    },
    {
     "name": "stdout",
     "output_type": "stream",
     "text": [
      "Policy average score =  0.17250705580304998\n"
     ]
    }
   ],
   "source": [
    "env_name  = 'FrozenLake-v0'\n",
    "env = gym.make(env_name)\n",
    "env = env.unwrapped\n",
    "times=[0]*10\n",
    "gammas=[0]*10\n",
    "iterations=[0]*10\n",
    "listscore=[0]*10\n",
    "for i in range(0,10):\n",
    "    start=time.time()\n",
    "    optimal_v,k = value_iteration(env, gamma = (i+0.5)/10)\n",
    "    policy = extract_policy(env, optimal_v, gamma = (i+0.5)/10)\n",
    "    policy_score = evaluate_policy(env, policy, gamma=(i+0.5)/10, n=1000)\n",
    "    end=time.time()\n",
    "    print(policy)\n",
    "    gammas[i]=(i+0.5)/10\n",
    "    iterations[i]=k\n",
    "    times[i]=end-start\n",
    "plt.plot(gammas, times)\n",
    "plt.xlabel('Gammas')\n",
    "plt.ylabel('Time of execution')\n",
    "plt.show()\n",
    "print('Policy average score = ', policy_score)"
   ]
  },
  {
   "cell_type": "code",
   "execution_count": null,
   "metadata": {},
   "outputs": [],
   "source": []
  }
 ],
 "metadata": {
  "kernelspec": {
   "display_name": "Python 3",
   "language": "python",
   "name": "python3"
  },
  "language_info": {
   "codemirror_mode": {
    "name": "ipython",
    "version": 3
   },
   "file_extension": ".py",
   "mimetype": "text/x-python",
   "name": "python",
   "nbconvert_exporter": "python",
   "pygments_lexer": "ipython3",
   "version": "3.8.5"
  }
 },
 "nbformat": 4,
 "nbformat_minor": 4
}
