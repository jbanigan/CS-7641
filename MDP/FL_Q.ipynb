{
 "cells": [
  {
   "cell_type": "code",
   "execution_count": 1,
   "metadata": {},
   "outputs": [],
   "source": [
    "import gym\n",
    "import os\n",
    "import numpy as np\n",
    "import time\n",
    "import matplotlib.pyplot as plt"
   ]
  },
  {
   "cell_type": "code",
   "execution_count": 2,
   "metadata": {},
   "outputs": [],
   "source": [
    "env_name  = 'Taxi-v3'\n",
    "env = gym.make(env_name)\n",
    "env = env.unwrapped"
   ]
  },
  {
   "cell_type": "code",
   "execution_count": 4,
   "metadata": {},
   "outputs": [
    {
     "data": {
      "image/png": "[encoded data removed]",
      "text/plain": [
       "<Figure size 432x288 with 1 Axes>"
      ]
     },
     "metadata": {
      "needs_background": "light"
     },
     "output_type": "display_data"
    }
   ],
   "source": [
    "start=time.time()\n",
    "Q = np.zeros((env.observation_space.n, env.action_space.n))\n",
    "rewards = []\n",
    "iterations = []\n",
    "optimal=[0]*env.observation_space.n\n",
    "alpha = 1.0\n",
    "gamma = 1.0\n",
    "episodes = 20000\n",
    "epsilon=0\n",
    "for episode in range(episodes):\n",
    "    state = env.reset()\n",
    "    #env.render()\n",
    "    done = False\n",
    "    t_reward = 0\n",
    "    max_steps = 1000000\n",
    "    for i in range(max_steps):\n",
    "        if done:\n",
    "            break\n",
    "        current = state\n",
    "        if np.random.rand()<epsilon:\n",
    "            action = np.argmax(Q[current, :])\n",
    "        else:\n",
    "            action = env.action_space.sample()\n",
    "        state, reward, done, info = env.step(action)\n",
    "        t_reward += reward\n",
    "        Q[current, action] += alpha * (reward + gamma * np.max(Q[state, :]) - Q[current, action])\n",
    "    epsilon=(1-2.71**(-episode/1000))\n",
    "    alpha=2.71**(-episode/1000)\n",
    "    rewards.append(t_reward)\n",
    "    iterations.append(i)\n",
    "for k in range(env.observation_space.n):\n",
    "    optimal[k]=np.argmax(Q[k, :])\n",
    "    #if np.argmax(Q[k, :])==5:\n",
    "        #print(k)\n",
    "#print(optimal)\n",
    "#print(\"average :\",np.average(rewards[2000:]))\n",
    "env.close()\n",
    "end=time.time()\n",
    "#print(\"time :\",end-start)\n",
    "def chunk_list(l, n):\n",
    "    for i in range(0, len(l), n):\n",
    "        yield l[i:i + n]\n",
    "\n",
    "size = 5\n",
    "chunks = list(chunk_list(rewards, size))\n",
    "averages = [sum(chunk) / len(chunk) for chunk in chunks]\n",
    "plt.plot(range(0, len(rewards), size)[200:], averages[200:])\n",
    "plt.xlabel('Iterations')\n",
    "plt.ylabel('Average Reward')\n",
    "plt.grid()\n",
    "plt.show()"
   ]
  },
  {
   "cell_type": "code",
   "execution_count": null,
   "metadata": {},
   "outputs": [],
   "source": []
  }
 ],
 "metadata": {
  "kernelspec": {
   "display_name": "Python 3",
   "language": "python",
   "name": "python3"
  },
  "language_info": {
   "codemirror_mode": {
    "name": "ipython",
    "version": 3
   },
   "file_extension": ".py",
   "mimetype": "text/x-python",
   "name": "python",
   "nbconvert_exporter": "python",
   "pygments_lexer": "ipython3",
   "version": "3.7.6"
  }
 },
 "nbformat": 4,
 "nbformat_minor": 4
}
